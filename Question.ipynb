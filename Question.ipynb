{
 "cells": [
  {
   "cell_type": "markdown",
   "metadata": {},
   "source": [
    "### Question 1:"
   ]
  },
  {
   "cell_type": "code",
   "execution_count": 5,
   "metadata": {},
   "outputs": [
    {
     "name": "stdout",
     "output_type": "stream",
     "text": [
      "[[6 6 6]\n",
      " [6 6 6]]\n",
      "[[6, 6, 6], [6, 6, 6]]\n"
     ]
    }
   ],
   "source": [
    "import numpy as np\n",
    "\n",
    "array1 = np.full((2,3),6)\n",
    "print(array1)\n",
    "list_from_array = array1.tolist()\n",
    "print(list_from_array)"
   ]
  },
  {
   "cell_type": "markdown",
   "metadata": {},
   "source": [
    "### Question 2:"
   ]
  },
  {
   "cell_type": "code",
   "execution_count": 10,
   "metadata": {},
   "outputs": [
    {
     "name": "stdout",
     "output_type": "stream",
     "text": [
      "[[5 8 8]\n",
      " [3 7 4]\n",
      " [8 9 1]]\n",
      "13\n"
     ]
    }
   ],
   "source": [
    "import numpy as np\n",
    "\n",
    "array1 = np.array([[5,8,8],[3,7,4],[8,9,1]])\n",
    "print(array1)\n",
    "list_from_array = array1.trace()\n",
    "print(list_from_array)"
   ]
  },
  {
   "cell_type": "code",
   "execution_count": 10,
   "metadata": {},
   "outputs": [
    {
     "name": "stdout",
     "output_type": "stream",
     "text": [
      "[[5 8 8]\n",
      " [3 7 4]\n",
      " [8 9 1]]\n",
      "13\n"
     ]
    }
   ],
   "source": [
    "import numpy as np\n",
    "\n",
    "array1 = np.array([[5,8,8],[3,7,4],[8,9,1]])\n",
    "print(array1)\n",
    "sum=0\n",
    "for i in range(0,array1.shape[0]):\n",
    "    sum = sum + array1[i,i]\n",
    "print(sum)"
   ]
  },
  {
   "cell_type": "markdown",
   "metadata": {},
   "source": [
    "### Question3:"
   ]
  },
  {
   "cell_type": "code",
   "execution_count": 19,
   "metadata": {},
   "outputs": [
    {
     "name": "stdout",
     "output_type": "stream",
     "text": [
      "(3, 3)\n",
      "Numbers greater than x are: [5, 8, 8, 3, 7, 4, 8, 9]\n"
     ]
    }
   ],
   "source": [
    "import numpy as np\n",
    "\n",
    "list1=[]\n",
    "x=3\n",
    "array1 = np.array([[5,8,8],[3,7,4],[8,9,1]])\n",
    "print (array1.shape)\n",
    "for i in range(0,array1.shape[0]):\n",
    "    for l in range(0,array1.shape[1]):\n",
    "        if array1[i,l]>=x:\n",
    "            list1.append(array1[i,l])\n",
    "print(f\"Numbers greater than x are: {list1}\")\n"
   ]
  },
  {
   "cell_type": "markdown",
   "metadata": {},
   "source": [
    "### Question 4:"
   ]
  },
  {
   "cell_type": "code",
   "execution_count": 21,
   "metadata": {},
   "outputs": [
    {
     "name": "stdout",
     "output_type": "stream",
     "text": [
      "our new array is: \n",
      " \n",
      " [[14 11 13]\n",
      " [ 8 10  8]\n",
      " [11 16 12]]\n"
     ]
    }
   ],
   "source": [
    "import numpy as np\n",
    "\n",
    "array1 = np.array([[5,8,8],[3,7,4],[8,9,1]])\n",
    "array2 = np.array([[9,3,5],[5,3,4],[3,7,11]])\n",
    "\n",
    "array3=array1+array2\n",
    "print(f\"our new array is: \\n \\n {array3}\")"
   ]
  },
  {
   "cell_type": "markdown",
   "metadata": {},
   "source": [
    "### Question 5:"
   ]
  },
  {
   "cell_type": "code",
   "execution_count": 25,
   "metadata": {},
   "outputs": [
    {
     "name": "stdout",
     "output_type": "stream",
     "text": [
      "our array is: \n",
      "  [[5 8 8]\n",
      " [3 7 2]\n",
      " [8 9 1]]\n",
      "The mean of each row of our array is: [7. 4. 6.]\n"
     ]
    }
   ],
   "source": [
    "import numpy as np\n",
    "\n",
    "array1 = np.array([[5,8,8],[3,7,2],[8,9,1]])\n",
    "print(f\"our array is: \\n  {array1}\")\n",
    "print(f\"The mean of each row of our array is: {np.mean(array1, axis = 1)}\")"
   ]
  }
 ],
 "metadata": {
  "kernelspec": {
   "display_name": "Python 3.10.6 64-bit (windows store)",
   "language": "python",
   "name": "python3"
  },
  "language_info": {
   "codemirror_mode": {
    "name": "ipython",
    "version": 3
   },
   "file_extension": ".py",
   "mimetype": "text/x-python",
   "name": "python",
   "nbconvert_exporter": "python",
   "pygments_lexer": "ipython3",
   "version": "3.10.6"
  },
  "orig_nbformat": 4,
  "vscode": {
   "interpreter": {
    "hash": "b2c647202fd92a8243df08cbefe5e2fc491585904a9553be3beec1ce7c610a24"
   }
  }
 },
 "nbformat": 4,
 "nbformat_minor": 2
}
